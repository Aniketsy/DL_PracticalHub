{
  "nbformat": 4,
  "nbformat_minor": 0,
  "metadata": {
    "colab": {
      "provenance": [],
      "toc_visible": true
    },
    "kernelspec": {
      "name": "python3",
      "display_name": "Python 3"
    },
    "language_info": {
      "name": "python"
    }
  },
  "cells": [
    {
      "cell_type": "markdown",
      "source": [
        "# Logistic Regression with a Neural network"
      ],
      "metadata": {
        "id": "AJydW8YM-7YE"
      }
    },
    {
      "cell_type": "markdown",
      "source": [],
      "metadata": {
        "id": "jZEoeBmICgZ5"
      }
    },
    {
      "cell_type": "code",
      "source": [
        "from io import IncrementalNewlineDecoder\n",
        "import numpy as np\n",
        "import copy\n",
        "import matplotlib.pyplot as plt\n",
        "import h5py\n",
        "import scipy\n",
        "from PIL import Image\n",
        "from scipy import ndimage\n",
        "\n",
        "%matplotlib inline\n",
        "%load_ext autoreload\n",
        "%autoreload 2\n"
      ],
      "metadata": {
        "id": "NNqWw4qKDE-5"
      },
      "execution_count": 1,
      "outputs": []
    },
    {
      "cell_type": "code",
      "source": [
        "from google.colab import files\n",
        "uploaded = files.upload()  # Opens a file upload dialog\n"
      ],
      "metadata": {
        "colab": {
          "base_uri": "https://localhost:8080/",
          "height": 73
        },
        "id": "y07t5V2WEt6a",
        "outputId": "6de6943a-cae5-43b9-bfc3-d48b5f44b5e9"
      },
      "execution_count": 2,
      "outputs": [
        {
          "output_type": "display_data",
          "data": {
            "text/plain": [
              "<IPython.core.display.HTML object>"
            ],
            "text/html": [
              "\n",
              "     <input type=\"file\" id=\"files-a33f1e0b-0333-4379-9451-d4ce59a778c4\" name=\"files[]\" multiple disabled\n",
              "        style=\"border:none\" />\n",
              "     <output id=\"result-a33f1e0b-0333-4379-9451-d4ce59a778c4\">\n",
              "      Upload widget is only available when the cell has been executed in the\n",
              "      current browser session. Please rerun this cell to enable.\n",
              "      </output>\n",
              "      <script>// Copyright 2017 Google LLC\n",
              "//\n",
              "// Licensed under the Apache License, Version 2.0 (the \"License\");\n",
              "// you may not use this file except in compliance with the License.\n",
              "// You may obtain a copy of the License at\n",
              "//\n",
              "//      http://www.apache.org/licenses/LICENSE-2.0\n",
              "//\n",
              "// Unless required by applicable law or agreed to in writing, software\n",
              "// distributed under the License is distributed on an \"AS IS\" BASIS,\n",
              "// WITHOUT WARRANTIES OR CONDITIONS OF ANY KIND, either express or implied.\n",
              "// See the License for the specific language governing permissions and\n",
              "// limitations under the License.\n",
              "\n",
              "/**\n",
              " * @fileoverview Helpers for google.colab Python module.\n",
              " */\n",
              "(function(scope) {\n",
              "function span(text, styleAttributes = {}) {\n",
              "  const element = document.createElement('span');\n",
              "  element.textContent = text;\n",
              "  for (const key of Object.keys(styleAttributes)) {\n",
              "    element.style[key] = styleAttributes[key];\n",
              "  }\n",
              "  return element;\n",
              "}\n",
              "\n",
              "// Max number of bytes which will be uploaded at a time.\n",
              "const MAX_PAYLOAD_SIZE = 100 * 1024;\n",
              "\n",
              "function _uploadFiles(inputId, outputId) {\n",
              "  const steps = uploadFilesStep(inputId, outputId);\n",
              "  const outputElement = document.getElementById(outputId);\n",
              "  // Cache steps on the outputElement to make it available for the next call\n",
              "  // to uploadFilesContinue from Python.\n",
              "  outputElement.steps = steps;\n",
              "\n",
              "  return _uploadFilesContinue(outputId);\n",
              "}\n",
              "\n",
              "// This is roughly an async generator (not supported in the browser yet),\n",
              "// where there are multiple asynchronous steps and the Python side is going\n",
              "// to poll for completion of each step.\n",
              "// This uses a Promise to block the python side on completion of each step,\n",
              "// then passes the result of the previous step as the input to the next step.\n",
              "function _uploadFilesContinue(outputId) {\n",
              "  const outputElement = document.getElementById(outputId);\n",
              "  const steps = outputElement.steps;\n",
              "\n",
              "  const next = steps.next(outputElement.lastPromiseValue);\n",
              "  return Promise.resolve(next.value.promise).then((value) => {\n",
              "    // Cache the last promise value to make it available to the next\n",
              "    // step of the generator.\n",
              "    outputElement.lastPromiseValue = value;\n",
              "    return next.value.response;\n",
              "  });\n",
              "}\n",
              "\n",
              "/**\n",
              " * Generator function which is called between each async step of the upload\n",
              " * process.\n",
              " * @param {string} inputId Element ID of the input file picker element.\n",
              " * @param {string} outputId Element ID of the output display.\n",
              " * @return {!Iterable<!Object>} Iterable of next steps.\n",
              " */\n",
              "function* uploadFilesStep(inputId, outputId) {\n",
              "  const inputElement = document.getElementById(inputId);\n",
              "  inputElement.disabled = false;\n",
              "\n",
              "  const outputElement = document.getElementById(outputId);\n",
              "  outputElement.innerHTML = '';\n",
              "\n",
              "  const pickedPromise = new Promise((resolve) => {\n",
              "    inputElement.addEventListener('change', (e) => {\n",
              "      resolve(e.target.files);\n",
              "    });\n",
              "  });\n",
              "\n",
              "  const cancel = document.createElement('button');\n",
              "  inputElement.parentElement.appendChild(cancel);\n",
              "  cancel.textContent = 'Cancel upload';\n",
              "  const cancelPromise = new Promise((resolve) => {\n",
              "    cancel.onclick = () => {\n",
              "      resolve(null);\n",
              "    };\n",
              "  });\n",
              "\n",
              "  // Wait for the user to pick the files.\n",
              "  const files = yield {\n",
              "    promise: Promise.race([pickedPromise, cancelPromise]),\n",
              "    response: {\n",
              "      action: 'starting',\n",
              "    }\n",
              "  };\n",
              "\n",
              "  cancel.remove();\n",
              "\n",
              "  // Disable the input element since further picks are not allowed.\n",
              "  inputElement.disabled = true;\n",
              "\n",
              "  if (!files) {\n",
              "    return {\n",
              "      response: {\n",
              "        action: 'complete',\n",
              "      }\n",
              "    };\n",
              "  }\n",
              "\n",
              "  for (const file of files) {\n",
              "    const li = document.createElement('li');\n",
              "    li.append(span(file.name, {fontWeight: 'bold'}));\n",
              "    li.append(span(\n",
              "        `(${file.type || 'n/a'}) - ${file.size} bytes, ` +\n",
              "        `last modified: ${\n",
              "            file.lastModifiedDate ? file.lastModifiedDate.toLocaleDateString() :\n",
              "                                    'n/a'} - `));\n",
              "    const percent = span('0% done');\n",
              "    li.appendChild(percent);\n",
              "\n",
              "    outputElement.appendChild(li);\n",
              "\n",
              "    const fileDataPromise = new Promise((resolve) => {\n",
              "      const reader = new FileReader();\n",
              "      reader.onload = (e) => {\n",
              "        resolve(e.target.result);\n",
              "      };\n",
              "      reader.readAsArrayBuffer(file);\n",
              "    });\n",
              "    // Wait for the data to be ready.\n",
              "    let fileData = yield {\n",
              "      promise: fileDataPromise,\n",
              "      response: {\n",
              "        action: 'continue',\n",
              "      }\n",
              "    };\n",
              "\n",
              "    // Use a chunked sending to avoid message size limits. See b/62115660.\n",
              "    let position = 0;\n",
              "    do {\n",
              "      const length = Math.min(fileData.byteLength - position, MAX_PAYLOAD_SIZE);\n",
              "      const chunk = new Uint8Array(fileData, position, length);\n",
              "      position += length;\n",
              "\n",
              "      const base64 = btoa(String.fromCharCode.apply(null, chunk));\n",
              "      yield {\n",
              "        response: {\n",
              "          action: 'append',\n",
              "          file: file.name,\n",
              "          data: base64,\n",
              "        },\n",
              "      };\n",
              "\n",
              "      let percentDone = fileData.byteLength === 0 ?\n",
              "          100 :\n",
              "          Math.round((position / fileData.byteLength) * 100);\n",
              "      percent.textContent = `${percentDone}% done`;\n",
              "\n",
              "    } while (position < fileData.byteLength);\n",
              "  }\n",
              "\n",
              "  // All done.\n",
              "  yield {\n",
              "    response: {\n",
              "      action: 'complete',\n",
              "    }\n",
              "  };\n",
              "}\n",
              "\n",
              "scope.google = scope.google || {};\n",
              "scope.google.colab = scope.google.colab || {};\n",
              "scope.google.colab._files = {\n",
              "  _uploadFiles,\n",
              "  _uploadFilesContinue,\n",
              "};\n",
              "})(self);\n",
              "</script> "
            ]
          },
          "metadata": {}
        },
        {
          "output_type": "stream",
          "name": "stdout",
          "text": [
            "Saving archive (8).zip to archive (8).zip\n"
          ]
        }
      ]
    },
    {
      "cell_type": "code",
      "source": [
        "# Assuming the zip file is already uploaded or in the current directory\n",
        "!unzip \"/content/archive (8).zip\" -d extracted_files\n"
      ],
      "metadata": {
        "colab": {
          "base_uri": "https://localhost:8080/"
        },
        "id": "VazeqBquHU30",
        "outputId": "fbf343e5-9578-40ad-91d7-f6ec33db1bbe"
      },
      "execution_count": 3,
      "outputs": [
        {
          "output_type": "stream",
          "name": "stdout",
          "text": [
            "Archive:  /content/archive (8).zip\n",
            "  inflating: extracted_files/catvnoncat/test_catvnoncat.h5  \n",
            "  inflating: extracted_files/catvnoncat/train_catvnoncat.h5  \n"
          ]
        }
      ]
    },
    {
      "cell_type": "code",
      "source": [
        "import os\n",
        "\n",
        "# List extracted files\n",
        "extracted_path = 'extracted_files'\n",
        "for root, dirs, files in os.walk(extracted_path):\n",
        "    for file in files:\n",
        "        print(os.path.join(root, file))\n"
      ],
      "metadata": {
        "colab": {
          "base_uri": "https://localhost:8080/"
        },
        "id": "k5cKO2ajHgJz",
        "outputId": "081d1681-645b-4b34-91d2-489ab921b75a"
      },
      "execution_count": 4,
      "outputs": [
        {
          "output_type": "stream",
          "name": "stdout",
          "text": [
            "extracted_files/catvnoncat/train_catvnoncat.h5\n",
            "extracted_files/catvnoncat/test_catvnoncat.h5\n"
          ]
        }
      ]
    },
    {
      "cell_type": "code",
      "source": [
        "import h5py\n",
        "import numpy as np\n",
        "\n",
        "def load_dataset():\n",
        "    # File paths\n",
        "    train_file_path = 'extracted_files/catvnoncat/train_catvnoncat.h5'\n",
        "    test_file_path = 'extracted_files/catvnoncat/test_catvnoncat.h5'\n",
        "\n",
        "    # Load training data\n",
        "    with h5py.File(train_file_path, 'r') as train_data:\n",
        "        train_set_x_orig = np.array(train_data['train_set_x'])  # Features (images)\n",
        "        train_set_y = np.array(train_data['train_set_y'])       # Labels (0 for non-cat, 1 for cat)\n",
        "        classes = np.array(train_data['list_classes'])          # Class labels (e.g., [0, 1])\n",
        "\n",
        "    # Load testing data\n",
        "    with h5py.File(test_file_path, 'r') as test_data:\n",
        "        test_set_x_orig = np.array(test_data['test_set_x'])  # Features (images)\n",
        "        test_set_y = np.array(test_data['test_set_y'])       # Labels (0 for non-cat, 1 for cat)\n",
        "\n",
        "    return train_set_x_orig, train_set_y, test_set_x_orig, test_set_y, classes\n",
        "\n",
        "# Load the dataset\n",
        "train_set_x_orig, train_set_y, test_set_x_orig, test_set_y, classes = load_dataset()"
      ],
      "metadata": {
        "id": "K55gnKF6JlPA"
      },
      "execution_count": 5,
      "outputs": []
    },
    {
      "cell_type": "code",
      "source": [
        "# Visualize an example from the training set\n",
        "index = 25\n",
        "\n",
        "# Display the image\n",
        "plt.imshow(train_set_x_orig[index])\n",
        "\n",
        "# Fix indexing for train_set_y\n",
        "if train_set_y.ndim == 2:  # If train_set_y has 2 dimensions (e.g., (1, 209))\n",
        "    label = train_set_y[0, index]\n",
        "else:  # If train_set_y has 1 dimension (e.g., (209,))\n",
        "    label = train_set_y[index]\n",
        "\n",
        "# Decode the label and print information\n",
        "print(\"y = \" + str(label) + \", it's a '\" + classes[label].decode(\"utf-8\") + \"' picture.\")\n"
      ],
      "metadata": {
        "colab": {
          "base_uri": "https://localhost:8080/",
          "height": 449
        },
        "id": "zZJmKfhXyOr1",
        "outputId": "7fabc8bd-9197-4561-96f2-399b6b64a15a"
      },
      "execution_count": 42,
      "outputs": [
        {
          "output_type": "stream",
          "name": "stdout",
          "text": [
            "y = 1, it's a 'cat' picture.\n"
          ]
        },
        {
          "output_type": "display_data",
          "data": {
            "text/plain": [
              "<Figure size 640x480 with 1 Axes>"
            ],
            "image/png": "[encoded data removed]"
          },
          "metadata": {}
        }
      ]
    },
    {
      "cell_type": "markdown",
      "source": [
        "**Exercise 1**\n",
        "Find the values for:\n",
        "\n",
        "- m_train (number of training examples)\n",
        "- m_test (number of test examples)\n",
        "- num_px (= height = width of a training image)\n",
        "\n",
        "Remember that train_set_x_orig is a numpy-array of shape (m_train, num_px, num_px, 3). For instance, you can access m_train by writing train_set_x_orig.shape[0]."
      ],
      "metadata": {
        "id": "Ut4lyxXVLgMP"
      }
    },
    {
      "cell_type": "code",
      "source": [
        "#(≈ 3 lines of code)\n",
        "# m_train =\n",
        "# m_test =\n",
        "# num_px =\n",
        "# YOUR CODE STARTS HERE\n",
        "m_train = train_set_x_orig.shape[0]\n",
        "m_test =  test_set_x_orig.shape[0]\n",
        "num_px = train_set_x_orig.shape[1]\n",
        "\n",
        "\n",
        "# YOUR CODE ENDS HERE\n",
        "\n",
        "print (\"Number of training examples: m_train = \" + str(m_train))\n",
        "print (\"Number of testing examples: m_test = \" + str(m_test))\n",
        "print (\"Height/Width of each image: num_px = \" + str(num_px))\n",
        "print (\"Each image is of size: (\" + str(num_px) + \", \" + str(num_px) + \", 3)\")\n",
        "print (\"train_set_x shape: \" + str(train_set_x_orig.shape))\n",
        "print (\"train_set_y shape: \" + str(train_set_y.shape))\n",
        "print (\"test_set_x shape: \" + str(test_set_x_orig.shape))\n",
        "print (\"test_set_y shape: \" + str(test_set_y.shape))"
      ],
      "metadata": {
        "colab": {
          "base_uri": "https://localhost:8080/"
        },
        "id": "Nm7b4nnZJFNR",
        "outputId": "41b28b23-d274-44f3-97c5-05695578bd37"
      },
      "execution_count": 43,
      "outputs": [
        {
          "output_type": "stream",
          "name": "stdout",
          "text": [
            "Number of training examples: m_train = 209\n",
            "Number of testing examples: m_test = 50\n",
            "Height/Width of each image: num_px = 64\n",
            "Each image is of size: (64, 64, 3)\n",
            "train_set_x shape: (209, 64, 64, 3)\n",
            "train_set_y shape: (209,)\n",
            "test_set_x shape: (50, 64, 64, 3)\n",
            "test_set_y shape: (50,)\n"
          ]
        }
      ]
    },
    {
      "cell_type": "markdown",
      "source": [
        "**Exercise 2**\n",
        "\n",
        "Reshape the training and test data sets so that images of size (num_px, num_px, 3) are flattened into single vectors of shape (num_px  ∗\n",
        "  num_px  ∗\n",
        "  3, 1).\n",
        "\n",
        "A trick when you want to flatten a matrix X of shape (a,b,c,d) to a matrix X_flatten of shape (b ∗\n",
        " c ∗\n",
        " d, a) is to use:\n",
        "\n",
        "X_flatten = X.reshape(X.shape[0], -1).T      # X.T is the transpose of X"
      ],
      "metadata": {
        "id": "FjetPul6LtJX"
      }
    },
    {
      "cell_type": "code",
      "source": [
        "train_set_x_flatten = train_set_x_orig.reshape(train_set_x_orig.shape[0], -1).T\n",
        "test_set_x_flatten = test_set_x_orig.reshape(test_set_x_orig.shape[0], -1).T\n",
        "\n",
        "print (\"train_set_x_flatten shape: \" + str(train_set_x_flatten.shape))\n",
        "print (\"train_set_y shape: \" + str(train_set_y.shape))\n",
        "print (\"test_set_x_flatten shape: \" + str(test_set_x_flatten.shape))\n",
        "print (\"test_set_y shape: \" + str(test_set_y.shape))"
      ],
      "metadata": {
        "colab": {
          "base_uri": "https://localhost:8080/"
        },
        "id": "Av8wXPY_Lu-2",
        "outputId": "3aa50590-7d8c-4861-fdd4-2d266eb70418"
      },
      "execution_count": 44,
      "outputs": [
        {
          "output_type": "stream",
          "name": "stdout",
          "text": [
            "train_set_x_flatten shape: (12288, 209)\n",
            "train_set_y shape: (209,)\n",
            "test_set_x_flatten shape: (12288, 50)\n",
            "test_set_y shape: (50,)\n"
          ]
        }
      ]
    },
    {
      "cell_type": "markdown",
      "source": [
        "**To represent color images, the red, green and blue channels (RGB) must be specified for each pixel, and so the pixel value is actually a vector of three numbers ranging from 0 to 255.**"
      ],
      "metadata": {
        "id": "9JWwW2ZuhVdH"
      }
    },
    {
      "cell_type": "markdown",
      "source": [
        "Let's standardize our dataset."
      ],
      "metadata": {
        "id": "xWHFZoWIhXMd"
      }
    },
    {
      "cell_type": "code",
      "source": [
        "train_set_x = train_set_x_flatten / 255.\n",
        "test_set_x = test_set_x_flatten / 255."
      ],
      "metadata": {
        "id": "Rrry0V20LJkI"
      },
      "execution_count": 45,
      "outputs": []
    },
    {
      "cell_type": "markdown",
      "source": [
        "# General Architecture of the Learning Algorithm"
      ],
      "metadata": {
        "id": "69oxodOOLegr"
      }
    },
    {
      "cell_type": "markdown",
      "source": [
        "**It's time to design a simple algorithm to distinguish cat images from non-cat images.**\n",
        "\n",
        "You will build a Logistic Regression, using a Neural Network mindset. The following Figure explains why Logistic Regression is actually a very simple Neural Network!\n",
        "\n"
      ],
      "metadata": {
        "id": "-HQZZW52hvoR"
      }
    },
    {
      "cell_type": "markdown",
      "source": [],
      "metadata": {
        "id": "mfOPAaSyhMV1"
      }
    },
    {
      "cell_type": "code",
      "source": [],
      "metadata": {
        "id": "KOYA4mvUhx-d"
      },
      "execution_count": null,
      "outputs": []
    },
    {
      "cell_type": "markdown",
      "source": [
        "**Mathematical expression of the algorithm:**\n",
        "\n",
        "For one example\n",
        " **𝑥(𝑖):𝑧(𝑖)=𝑤𝑇𝑥(𝑖)+𝑏 **\n",
        "\n",
        "(1)\n",
        "**𝑦̂ (𝑖)=𝑎(𝑖)=𝑠𝑖𝑔𝑚𝑜𝑖𝑑(𝑧(𝑖))**\n",
        "\n",
        "\n",
        "(2)\n",
        "**(𝑎(𝑖),𝑦(𝑖))=−𝑦(𝑖)log(𝑎(𝑖))−(1−𝑦(𝑖))log(1−𝑎(𝑖))**\n",
        "\n",
        "(3)\n",
        "\n",
        "The cost is then computed by summing over all training examples:\n",
        "𝐽=1𝑚∑𝑖=1𝑚(𝑎(𝑖),𝑦(𝑖))(6)"
      ],
      "metadata": {
        "id": "bXI5IxLkh2rK"
      }
    },
    {
      "cell_type": "code",
      "source": [],
      "metadata": {
        "id": "0PXQDZSWiBIw"
      },
      "execution_count": null,
      "outputs": []
    },
    {
      "cell_type": "markdown",
      "source": [
        "**4.1 - Helper functions**\n",
        "\n",
        "**Exercise 3 - sigmoid**\n",
        "Using your code from \"Python Basics\", implement sigmoid(). As you've seen in the figure above, you need to compute  \n",
        "\n",
        "**𝑠𝑖𝑔𝑚𝑜𝑖𝑑(𝑧)=11+𝑒−𝑧\n",
        "  for  𝑧=𝑤𝑇𝑥+𝑏**\n",
        "  \n",
        "  to make predictions. Use np.exp()."
      ],
      "metadata": {
        "id": "i65C1ymoiIdw"
      }
    },
    {
      "cell_type": "code",
      "source": [
        "def sigmoid(z):\n",
        "  s = 1/(1+np.exp(-z))\n",
        "\n",
        "  return s\n"
      ],
      "metadata": {
        "id": "fLKhavSYhgxb"
      },
      "execution_count": 46,
      "outputs": []
    },
    {
      "cell_type": "code",
      "source": [
        "print(\"sigmoid([0,2]) = \"+ str(sigmoid(np.array([0,2]))))\n",
        "\n",
        "#sigmoid_test(sigmoid)"
      ],
      "metadata": {
        "colab": {
          "base_uri": "https://localhost:8080/"
        },
        "id": "ZX3AD8T0iccp",
        "outputId": "61709e6b-2002-4dae-ae50-1477d5bc2bd0"
      },
      "execution_count": 47,
      "outputs": [
        {
          "output_type": "stream",
          "name": "stdout",
          "text": [
            "sigmoid([0,2]) = [0.5        0.88079708]\n"
          ]
        }
      ]
    },
    {
      "cell_type": "code",
      "source": [
        "x = np.array([0.5,0,2.0])\n",
        "output = sigmoid(x)\n",
        "print(output)"
      ],
      "metadata": {
        "colab": {
          "base_uri": "https://localhost:8080/"
        },
        "id": "iBOa6yMSjDi-",
        "outputId": "c8ca4336-8e83-4225-8729-3e9eb92e7dda"
      },
      "execution_count": 12,
      "outputs": [
        {
          "output_type": "stream",
          "name": "stdout",
          "text": [
            "[0.62245933 0.5        0.88079708]\n"
          ]
        }
      ]
    },
    {
      "cell_type": "markdown",
      "source": [
        "**4.2 - Initializing parameters**\n",
        "\n",
        "**Exercise 4**\n",
        " - initialize_with_zeros\n",
        "Implement parameter initialization in the cell below. You have to initialize w as a vector of zeros. If you don't know what numpy function to use, look up np.zeros() in the Numpy library's documentation."
      ],
      "metadata": {
        "id": "WGvVvSitjWec"
      }
    },
    {
      "cell_type": "code",
      "source": [
        "def initialize_with_zeros(dim):\n",
        "  w = np.zeros((dim,1))\n",
        "  b = 0.0\n",
        "\n",
        "  return w,b\n"
      ],
      "metadata": {
        "id": "xrDvFZzTjX1b"
      },
      "execution_count": 48,
      "outputs": []
    },
    {
      "cell_type": "code",
      "source": [
        "dim = 2\n",
        "w, b = initialize_with_zeros(dim)\n",
        "print (\"w = \" + str(w))\n",
        "print (\"b = \" + str(b))\n",
        "\n",
        "#initialize_with_zeros_test_1(initialize_with_zeros)\n",
        "#initialize_with_zeros_test_2(initialize_with_zeros)"
      ],
      "metadata": {
        "colab": {
          "base_uri": "https://localhost:8080/"
        },
        "id": "97sWcrEljzpV",
        "outputId": "5253313f-29e8-47d2-ba07-123946830577"
      },
      "execution_count": 49,
      "outputs": [
        {
          "output_type": "stream",
          "name": "stdout",
          "text": [
            "w = [[0.]\n",
            " [0.]]\n",
            "b = 0.0\n"
          ]
        }
      ]
    },
    {
      "cell_type": "code",
      "source": [],
      "metadata": {
        "id": "W8PMC6JvkO3q"
      },
      "execution_count": null,
      "outputs": []
    },
    {
      "cell_type": "markdown",
      "source": [
        "**4.3 - Forward and Backward propagation\n",
        "Now that your parameters are initialized, you can do the \"forward\" and \"backward\" propagation steps for learning the parameters.**\n",
        "\n",
        "\n",
        "**Exercise 5 - propagate\n",
        "Implement a function propagate() that computes the cost function and its gradient.**\n",
        "\n",
        "Hints:\n",
        "\n",
        "Forward Propagation:\n",
        "\n",
        "You get X\n",
        "You compute\n",
        "** 𝐴=𝜎(𝑤𝑇𝑋+𝑏)=(𝑎(1),𝑎(2),...,𝑎(𝑚−1),𝑎(𝑚))**\n",
        "\n",
        "You calculate the cost function:  **𝐽=−1𝑚∑𝑚𝑖=1(𝑦(𝑖)log(𝑎(𝑖))+(1−𝑦(𝑖))log(1−𝑎(𝑖)))**\n",
        "\n",
        "Here are the two formulas you will be using:\n",
        "\n",
        "**∂𝐽∂𝑤=1𝑚𝑋(𝐴−𝑌)𝑇(7)\n",
        "∂𝐽∂𝑏=1𝑚∑𝑖=1𝑚(𝑎(𝑖)−𝑦(𝑖))**"
      ],
      "metadata": {
        "id": "HJJsizxhkT61"
      }
    },
    {
      "cell_type": "code",
      "source": [
        "def propagate(w,b,X,Y):\n",
        "  m = X.shape[1]\n",
        "\n",
        "  A= sigmoid(np.dot(w.T,X)+b)\n",
        "  cost = -1 * np.sum((Y*np.log(A) + (1-Y)*np.log(1-A))/m)\n",
        "\n",
        "\n",
        "  dw = np.dot(X, (A-Y).T)/m\n",
        "  db= np.sum(A-Y)/m\n",
        "\n",
        "  cost = np.squeeze(np.array(cost))\n",
        "\n",
        "  grads = {\"dw\":dw,\n",
        "           \"db\":db}\n",
        "\n",
        "  return grads,cost\n"
      ],
      "metadata": {
        "id": "kftUszqzkVmT"
      },
      "execution_count": 50,
      "outputs": []
    },
    {
      "cell_type": "code",
      "source": [
        "w = np.array([[1.],[2]])\n",
        "b = 1.5\n",
        "\n",
        "X =np.array([[1., -2., -1.],[3., 0.5, -3.2]])\n",
        "Y = np.array([[1,1,0]])\n",
        "grads, cost = propagate(w, b, X, Y)\n",
        "\n",
        "assert type(grads[\"dw\"]) == np.ndarray\n",
        "assert grads[\"dw\"].shape == (2, 1)\n",
        "assert type(grads[\"db\"]) == np.float64\n",
        "\n",
        "print (\"w = \" + str(grads[\"dw\"]))\n",
        "print (\"b = \" + str(grads[\"db\"]))\n",
        "print (\"cost = \" + str(cost))"
      ],
      "metadata": {
        "colab": {
          "base_uri": "https://localhost:8080/"
        },
        "id": "PjTKqIdEmQwE",
        "outputId": "c129cc28-3346-4011-add2-a4e9f23a7c12"
      },
      "execution_count": 51,
      "outputs": [
        {
          "output_type": "stream",
          "name": "stdout",
          "text": [
            "w = [[ 0.25071532]\n",
            " [-0.06604096]]\n",
            "b = -0.12500404500439652\n",
            "cost = 0.15900537707692405\n"
          ]
        }
      ]
    },
    {
      "cell_type": "code",
      "source": [],
      "metadata": {
        "id": "glzoLV5dmQs7"
      },
      "execution_count": null,
      "outputs": []
    },
    {
      "cell_type": "markdown",
      "source": [
        "**4.4 - Optimization**\n",
        "\n",
        "You have initialized your parameters.\n",
        "You are also able to compute a cost function and its gradient.\n",
        "Now, you want to update the parameters using gradient descent.\n",
        "\n",
        "**Exercise 6 - optimize**\n",
        "\n",
        "Write down the optimization function. The goal is to learn  𝑤\n",
        "  and  𝑏\n",
        "  by minimizing the cost function  𝐽\n",
        " . For a parameter  𝜃\n",
        " , the update rule is  𝜃=𝜃−𝛼 𝑑𝜃\n",
        " , where  𝛼\n",
        "  is the learning rate."
      ],
      "metadata": {
        "id": "nympJWkgpwuH"
      }
    },
    {
      "cell_type": "code",
      "source": [
        "def optimize(w,b, X,Y, num_iterations =100, learning_rate = 0.009, print_cost=False):\n",
        "\n",
        "  w = copy.deepcopy(w)\n",
        "  b = copy.deepcopy(b)\n",
        "\n",
        "  costs= []\n",
        "\n",
        "  for i in range(num_iterations):\n",
        "    grads, cost = propagate(w,b,X,Y)\n",
        "\n",
        "    # retrive derivatives from grads\n",
        "    dw = grads[\"dw\"]\n",
        "    db = grads[\"db\"]\n",
        "\n",
        "    w = w - learning_rate * dw\n",
        "    b = b - learning_rate * db\n",
        "\n",
        "    if i % 100 == 0:\n",
        "      costs.append(cost)\n",
        "\n",
        "      # print the cost every 100 training iterations\n",
        "      if print_cost:\n",
        "        print(\"Cost after iteration %i: %f\" %(i, cost))\n",
        "\n",
        "  params={\"w\":w,\n",
        "        \"b\":b}\n",
        "\n",
        "  grads = {\"dw\":dw,\n",
        "         \"db\":db}\n",
        "\n",
        "  return params, grads, costs\n"
      ],
      "metadata": {
        "id": "vaQ0pdhPpzJG"
      },
      "execution_count": 52,
      "outputs": []
    },
    {
      "cell_type": "code",
      "source": [
        "params, grads, costs = optimize(w, b, X, Y, num_iterations=100, learning_rate=0.009, print_cost=False)\n",
        "\n",
        "print (\"w = \" + str(params[\"w\"]))\n",
        "print (\"b = \" + str(params[\"b\"]))\n",
        "print (\"dw = \" + str(grads[\"dw\"]))\n",
        "print (\"db = \" + str(grads[\"db\"]))\n",
        "print(\"Costs = \" + str(costs))\n",
        "\n",
        "#optimize_test(optimize)"
      ],
      "metadata": {
        "colab": {
          "base_uri": "https://localhost:8080/"
        },
        "id": "Kz4i7eLCsFX7",
        "outputId": "6e6176f1-c211-4947-8a34-07c7b3035668"
      },
      "execution_count": 53,
      "outputs": [
        {
          "output_type": "stream",
          "name": "stdout",
          "text": [
            "w = [[0.80956046]\n",
            " [2.0508202 ]]\n",
            "b = 1.5948713189708588\n",
            "dw = [[ 0.17860505]\n",
            " [-0.04840656]]\n",
            "db = -0.08888460336847771\n",
            "Costs = [array(0.15900538)]\n"
          ]
        }
      ]
    },
    {
      "cell_type": "code",
      "source": [],
      "metadata": {
        "id": "aedK8KaouGoM"
      },
      "execution_count": null,
      "outputs": []
    },
    {
      "cell_type": "markdown",
      "source": [
        "**Exercise 7 - predict**\n",
        "The previous function will output the learned w and b. We are able to use w and b to predict the labels for a dataset X. Implement the predict() function. There are two steps to computing predictions:\n",
        "\n",
        "Calculate  **𝑌̂ =𝐴=𝜎(𝑤𝑇𝑋+𝑏)**\n",
        "\n",
        "\n",
        "Convert the entries of a into 0 (if activation <= 0.5) or 1 (if activation > 0.5), stores the predictions in a vector Y_prediction. If you wish, you can use an if/else statement in a for loop (though there is also a way to vectorize this)."
      ],
      "metadata": {
        "id": "tGBwH2cduJpf"
      }
    },
    {
      "cell_type": "code",
      "source": [
        "def predict(w,b, X):\n",
        "  m = X.shape[1]\n",
        "  Y_prediction = np.zeros((1,m))\n",
        "  w = w.reshape(X.shape[0],1)\n",
        "\n",
        "  A = sigmoid(np.dot(w.T, X) +b)\n",
        "\n",
        "  for i in range(A.shape[1]):\n",
        "    if A[0,i] > 0.5:\n",
        "      Y_prediction[0,i] = 1;\n",
        "    else:\n",
        "      Y_prediction[0,i] = 0\n",
        "\n",
        "  return Y_prediction\n"
      ],
      "metadata": {
        "id": "6qu9LBRluLH0"
      },
      "execution_count": 54,
      "outputs": []
    },
    {
      "cell_type": "code",
      "source": [
        "w = np.array([[0.1124579], [0.23106775]])\n",
        "b = -0.3\n",
        "X = np.array([[1., -1.1, -3.2],[1.2, 2., 0.1]])\n",
        "print (\"predictions = \" + str(predict(w, b, X)))\n"
      ],
      "metadata": {
        "colab": {
          "base_uri": "https://localhost:8080/"
        },
        "id": "mBXjOgiYvVEn",
        "outputId": "16095a10-fd64-407f-f8b3-69ade5622d8c"
      },
      "execution_count": 55,
      "outputs": [
        {
          "output_type": "stream",
          "name": "stdout",
          "text": [
            "predictions = [[1. 1. 0.]]\n"
          ]
        }
      ]
    },
    {
      "cell_type": "markdown",
      "source": [
        "**5 - Merge all functions into a model\n",
        "You will now see how the overall model is structured by putting together all the building blocks (functions implemented in the previous parts) together, in the right order.**\n",
        "\n",
        "\n",
        "**Exercise 8 - model\n",
        "Implement the model function. Use the following notation:**\n",
        "\n",
        "- Y_prediction_test for your predictions on the test set\n",
        "- Y_prediction_train for your predictions on the train set\n",
        "- parameters, grads, costs for the outputs of optimize()"
      ],
      "metadata": {
        "id": "_fo5JxGVvnsJ"
      }
    },
    {
      "cell_type": "code",
      "source": [
        "\n",
        "\n",
        "def model(X_train, Y_train, X_test, Y_test, num_iterations=2000, learning_rate=0.5, print_cost=False):\n",
        "\n",
        "    w,b = initialize_with_zeros(X_train.shape[0])\n",
        "    parameters, grads, costs = optimize(w,b,X_train, Y_train, num_iterations, learning_rate, print_cost)\n",
        "    w = parameters[\"w\"]\n",
        "    b = parameters[\"b\"]\n",
        "    Y_prediction_test = predict(w,b,X_test)\n",
        "    Y_prediction_train = predict(w,b,X_train)\n",
        "\n",
        "\n",
        "    # Print train/test Errors\n",
        "    if print_cost:\n",
        "        print(\"train accuracy: {} %\".format(100 - np.mean(np.abs(Y_prediction_train - Y_train)) * 100))\n",
        "        print(\"test accuracy: {} %\".format(100 - np.mean(np.abs(Y_prediction_test - Y_test)) * 100))\n",
        "\n",
        "\n",
        "    d = {\"costs\": costs,\n",
        "         \"Y_prediction_test\": Y_prediction_test,\n",
        "         \"Y_prediction_train\" : Y_prediction_train,\n",
        "         \"w\" : w,\n",
        "         \"b\" : b,\n",
        "         \"learning_rate\" : learning_rate,\n",
        "         \"num_iterations\": num_iterations}\n",
        "\n",
        "    return d"
      ],
      "metadata": {
        "id": "lSEAAxFLvpQk"
      },
      "execution_count": 56,
      "outputs": []
    },
    {
      "cell_type": "code",
      "source": [
        "logistic_regression_model = model(train_set_x, train_set_y, test_set_x, test_set_y, num_iterations=2000, learning_rate=0.005, print_cost=True)"
      ],
      "metadata": {
        "colab": {
          "base_uri": "https://localhost:8080/"
        },
        "id": "Zjo5Mu86wU0Y",
        "outputId": "34b27d7a-2e26-425d-b339-1e5f64a96560"
      },
      "execution_count": 57,
      "outputs": [
        {
          "output_type": "stream",
          "name": "stdout",
          "text": [
            "Cost after iteration 0: 0.693147\n",
            "Cost after iteration 100: 0.584508\n",
            "Cost after iteration 200: 0.466949\n",
            "Cost after iteration 300: 0.376007\n",
            "Cost after iteration 400: 0.331463\n",
            "Cost after iteration 500: 0.303273\n",
            "Cost after iteration 600: 0.279880\n",
            "Cost after iteration 700: 0.260042\n",
            "Cost after iteration 800: 0.242941\n",
            "Cost after iteration 900: 0.228004\n",
            "Cost after iteration 1000: 0.214820\n",
            "Cost after iteration 1100: 0.203078\n",
            "Cost after iteration 1200: 0.192544\n",
            "Cost after iteration 1300: 0.183033\n",
            "Cost after iteration 1400: 0.174399\n",
            "Cost after iteration 1500: 0.166521\n",
            "Cost after iteration 1600: 0.159305\n",
            "Cost after iteration 1700: 0.152667\n",
            "Cost after iteration 1800: 0.146542\n",
            "Cost after iteration 1900: 0.140872\n",
            "train accuracy: 99.04306220095694 %\n",
            "test accuracy: 70.0 %\n"
          ]
        }
      ]
    },
    {
      "cell_type": "code",
      "source": [
        "# Example of a wrongly classified picture\n",
        "index = 45  # Index of the picture\n",
        "\n",
        "# Reshape test_set_x for visualization\n",
        "num_px = int(np.sqrt(test_set_x.shape[0] / 3))  # Calculate num_px based on the total number of features and assuming 3 color channels\n",
        "\n",
        "# Select the image data and reshape it\n",
        "image_data = test_set_x[:, index]  # Select the image data for the given index\n",
        "reshaped_image = image_data.reshape((num_px, num_px, 3))  # Reshape the image data\n",
        "\n",
        "# Display the image\n",
        "plt.imshow(reshaped_image)\n",
        "\n",
        "# Access the true label\n",
        "true_label = test_set_y[0, index] if test_set_y.ndim == 2 else test_set_y[index]\n",
        "\n",
        "# Access the predicted label\n",
        "predicted_label = logistic_regression_model['Y_prediction_test'][0, index]\n",
        "\n",
        "# Print details\n",
        "print(\"y = \" + str(true_label) +\n",
        "      \", you predicted that it is a \\\"\" + classes[int(predicted_label)].decode(\"utf-8\") + \"\\\" picture.\")"
      ],
      "metadata": {
        "colab": {
          "base_uri": "https://localhost:8080/",
          "height": 449
        },
        "id": "wmnljvfezuj0",
        "outputId": "6bd40f01-add7-496f-e2fd-ad5a734c741d"
      },
      "execution_count": 70,
      "outputs": [
        {
          "output_type": "stream",
          "name": "stdout",
          "text": [
            "y = 0, you predicted that it is a \"non-cat\" picture.\n"
          ]
        },
        {
          "output_type": "display_data",
          "data": {
            "text/plain": [
              "<Figure size 640x480 with 1 Axes>"
            ],
            "image/png": "[encoded data removed]"
          },
          "metadata": {}
        }
      ]
    },
    {
      "cell_type": "code",
      "source": [
        "# Plot learning curve (with costs)\n",
        "costs = np.squeeze(logistic_regression_model['costs'])\n",
        "plt.plot(costs)\n",
        "plt.ylabel('cost')\n",
        "plt.xlabel('iterations (per hundreds)')\n",
        "plt.title(\"Learning rate =\" + str(logistic_regression_model[\"learning_rate\"]))\n",
        "plt.show()"
      ],
      "metadata": {
        "colab": {
          "base_uri": "https://localhost:8080/",
          "height": 472
        },
        "id": "2XhUa5zbwsIB",
        "outputId": "14b97401-bd3a-4659-cb96-ffe291beb18a"
      },
      "execution_count": 38,
      "outputs": [
        {
          "output_type": "display_data",
          "data": {
            "text/plain": [
              "<Figure size 640x480 with 1 Axes>"
            ],
            "image/png": "[encoded data removed]"
          },
          "metadata": {}
        }
      ]
    }
  ]
}